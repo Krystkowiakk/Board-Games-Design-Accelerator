{
 "cells": [
  {
   "cell_type": "markdown",
   "id": "80dc9406",
   "metadata": {},
   "source": [
    "# WINTER LOCKDOWN BOARDGAME \n",
    "## Metis-Project-3-Business-on-BGG\n",
    "\n",
    "Krystian Krystkowiak 2022"
   ]
  },
  {
   "cell_type": "markdown",
   "id": "443a9b89",
   "metadata": {},
   "source": [
    "**Links:**\n",
    "\n",
    "Google sheets: https://docs.google.com/spreadsheets/d/16DLsIraKjMeK2INhBotRjbkUvpUlMT2h0GEUT7ioyPo/edit?usp=sharing\n",
    "Tableau: https://public.tableau.com/views/Metis-Project-3-Business-on-BGG/Dashboard4_1?:language=en-GB&:display_count=n&:origin=viz_share_link"
   ]
  }
 ],
 "metadata": {
  "kernelspec": {
   "display_name": "Python 3 (regression)",
   "language": "python",
   "name": "regression"
  },
  "language_info": {
   "codemirror_mode": {
    "name": "ipython",
    "version": 3
   },
   "file_extension": ".py",
   "mimetype": "text/x-python",
   "name": "python",
   "nbconvert_exporter": "python",
   "pygments_lexer": "ipython3",
   "version": "3.9.7"
  }
 },
 "nbformat": 4,
 "nbformat_minor": 5
}
