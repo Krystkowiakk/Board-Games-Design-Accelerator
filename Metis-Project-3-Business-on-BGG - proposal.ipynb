{
 "cells": [
  {
   "cell_type": "markdown",
   "id": "9700d8c4",
   "metadata": {},
   "source": [
    "# WINTER LOCKDOWN BOARDGAME \n",
    "## Metis-Project-3-Business-on-BGG - proposal\n",
    "Krystian Krystkowiak 2022"
   ]
  },
  {
   "cell_type": "markdown",
   "id": "363ff7a2",
   "metadata": {},
   "source": [
    "**Client:**\n",
    "\n",
    "Our client is Board Game publisher or designer who would like to speed up and automate design process."
   ]
  },
  {
   "cell_type": "markdown",
   "id": "7ad654ca",
   "metadata": {},
   "source": [
    "**Question/Need:**\n",
    "\n",
    "Last couple years brought renesans of modern board games. Covid-19 and lockdowns connected with it just increased market growth. The Global Board Games Market was valued at USD 13.75 Billion in 2021, and it is expected to reach a value of USD 30.93 Billion by 2028.\n",
    "\n",
    "It is 2022 and winter is coming. Governments already predict Covid lockdowns and power blackouts connected with war with Russia.\n",
    "\n",
    "It may be good opportunity to sell another board game.\n",
    "\n",
    "It is already end  of July, how we could speed up production and design process?\n",
    "\n",
    " - What are most popular trends in Board Games designs and unexplored niches?"
   ]
  },
  {
   "cell_type": "markdown",
   "id": "62fedfe0",
   "metadata": {},
   "source": [
    "**Impact:**\n",
    "\n",
    "PRIMARY - We would like to speed up board game production and design decisions by identification of market most demanded features.\n",
    "\n",
    "Finding niches in the market.\n",
    "\n",
    "Hypothesis: Analysing, what highly ranked board games have in common, what mechanic and themes, will help us to identify most demanded features."
   ]
  },
  {
   "cell_type": "markdown",
   "id": "86b26926",
   "metadata": {},
   "source": [
    "**Data Description:**\n",
    "\n",
    "Board Game Geek data. It is most popular source of board games knowledge in Internet.\n",
    "https://boardgamegeek.com/browse/boardgame\n",
    "\n",
    "Scraped data i have found here:\n",
    "https://www.kaggle.com/datasets/jvanelteren/boardgamegeek-reviews?select=games_detailed_info.csv\n",
    "\n",
    "1000+ rows. Indyvidual row of data has 56 colums. Our focus will be:\n",
    "\n",
    " - primary (name)\n",
    " - minplayers\n",
    " - maxplayers\n",
    " - playingtime\n",
    " - minage\n",
    " - boardgamecategory\n",
    " - boardgamemechanic\n",
    " - boardgamefamily\n",
    " - boardgamedesigner\n",
    " - boardgameartist\n",
    " - usersrated\n",
    " - average (rating)\n",
    " - owned\n",
    " - wanting\n",
    " - wishing\n",
    " - numcomments\n",
    " - averageweight (complexity)"
   ]
  },
  {
   "cell_type": "markdown",
   "id": "e3170e88",
   "metadata": {},
   "source": [
    "**Solution Path:**\n",
    "\n",
    "To speed up production and design process of board game. We hypothesize that performing EDA on highly ranked board games may help us achive that goal. We may also find unexplored market's niches.\n",
    "\n",
    "Right now games are designed basing on spontanious idea, inspiration. May be inspired recent sucesfull theme, franchise or mechanic."
   ]
  },
  {
   "cell_type": "markdown",
   "id": "6fc6650b",
   "metadata": {},
   "source": [
    "**Criteria for Success:**\n",
    "\n",
    "We create clear image of most sucesfull board games features that is a base to take strategic production and design decision."
   ]
  },
  {
   "cell_type": "markdown",
   "id": "5bb73779",
   "metadata": {},
   "source": [
    "**Assumptions and Risks:**\n",
    "\n",
    "There is a risk that each game design is unique and irrelevant to how customers find it.\n",
    "In that case at least we will have orientation in the market and will be able to avoid being too similar to other product.\n",
    "\n",
    "There is a risk that following successful trend may put us in market area already fulfilled.\n",
    "In that case our analysis may show us also unexplored niches.\n"
   ]
  },
  {
   "cell_type": "markdown",
   "id": "1cc87a67",
   "metadata": {},
   "source": [
    "**Tools:**\n",
    "\n",
    "Google Sheets for EDA and visualisation.\n",
    "\n",
    "Tableau for visualization.\n",
    "\n"
   ]
  },
  {
   "cell_type": "markdown",
   "id": "c53c11c5",
   "metadata": {},
   "source": [
    "**MVP Goal:**\n",
    "\n",
    "Description of initial findings with up to 3 plots showing most popular features."
   ]
  },
  {
   "cell_type": "code",
   "execution_count": null,
   "id": "1e8b77cc",
   "metadata": {},
   "outputs": [],
   "source": []
  }
 ],
 "metadata": {
  "kernelspec": {
   "display_name": "Python 3 (regression)",
   "language": "python",
   "name": "regression"
  },
  "language_info": {
   "codemirror_mode": {
    "name": "ipython",
    "version": 3
   },
   "file_extension": ".py",
   "mimetype": "text/x-python",
   "name": "python",
   "nbconvert_exporter": "python",
   "pygments_lexer": "ipython3",
   "version": "3.9.7"
  }
 },
 "nbformat": 4,
 "nbformat_minor": 5
}
