{
 "cells": [
  {
   "cell_type": "markdown",
   "id": "80dc9406",
   "metadata": {},
   "source": [
    "# WINTER LOCKDOWN BOARDGAME \n",
    "## Metis-Project-3-Business-on-BGG\n",
    "\n",
    "Krystian Krystkowiak 2022"
   ]
  },
  {
   "cell_type": "markdown",
   "id": "108b7965",
   "metadata": {},
   "source": [
    "**Abstract:**\n",
    "\n",
    "The goal of this project was to use speed up and automate board game design process by identification of market most demanded features. Right now games are designed basing on spontaneous idea. I worked with scraped Board Game Geek data, the most popular source of board games knowledge in Internet. Performing EDA, helped me to identify most demanded features. I visualised and communicated my findings using Google sheets and Tableau."
   ]
  },
  {
   "cell_type": "markdown",
   "id": "1525809b",
   "metadata": {},
   "source": [
    "**Design:**\n",
    "\n",
    "Last couple years brought renaissance of modern board games. Covid-19 and lockdowns connected with it just increased market growth. The Global Board Games Market was valued at USD 13.75 Billion in 2021, and it is expected to reach a value of USD 30.93 Billion by 2028.\n",
    "\n",
    "It is 2022 and winter is coming. Governments already predict Covid lockdowns and power blackouts connected with war with Russia.\n",
    "\n",
    "It may be good opportunity to sell another board game and our client is Board Game publisher or designer who would like to speed up and automate design process.\n",
    " \n",
    "What highly ranked board games have in common, what mechanic and themes are most demanded features? Could speed up production and design process? That we try to find out by analyse of BGG data."
   ]
  },
  {
   "cell_type": "markdown",
   "id": "6ec1bcf2",
   "metadata": {},
   "source": [
    "**Data:**\n",
    "\n",
    "Board Game Geek data. It is most popular source of board games knowledge in Internet.\n",
    "https://boardgamegeek.com/browse/boardgame\n",
    "\n",
    "Scraped data i have found here:\n",
    "https://www.kaggle.com/datasets/jvanelteren/boardgamegeek-reviews?select=games_detailed_info.csv\n",
    "\n",
    "1822 rows of data. Indyvidual row of data has 17 colums. Filtered to keep at least 1000 rating votes and 100 complexity votes. Features: name, BGG rating, themes, players number, play time, complexity rating and mechanic."
   ]
  },
  {
   "cell_type": "markdown",
   "id": "12e5a9de",
   "metadata": {},
   "source": [
    "**Algorithms:**\n",
    "\n",
    "Filtering and cleaning data.\n",
    "\n",
    "Converting categorical features to binary dummy variables (categories and mechanics).\n",
    "\n",
    "Creating new features (number of mechanics, words in the title, desired).\n",
    "\n",
    "Creating interactive bar plots of most categories and mechanics depending on BGG rating.\n",
    "\n",
    "Creating Tableau visualisations."
   ]
  },
  {
   "cell_type": "markdown",
   "id": "7cc00643",
   "metadata": {},
   "source": [
    "**Tools:**\n",
    "\n",
    "Google Sheets for EDA and visualisation.\n",
    "\n",
    "Tableau for visualization.\n",
    "\n"
   ]
  },
  {
   "cell_type": "markdown",
   "id": "443a9b89",
   "metadata": {},
   "source": [
    "**Communication:**\n",
    "\n",
    "In addition to the slides and visuals presented, I attached links to Google sheets and Tableau.\n",
    "\n",
    "Google sheets: https://docs.google.com/spreadsheets/d/16DLsIraKjMeK2INhBotRjbkUvpUlMT2h0GEUT7ioyPo/edit?usp=sharing\n",
    "Tableau: https://public.tableau.com/views/Metis-Project-3-Business-on-BGG/Dashboard4_1?:language=en-GB&:display_count=n&:origin=viz_share_link"
   ]
  }
 ],
 "metadata": {
  "kernelspec": {
   "display_name": "Python 3 (regression)",
   "language": "python",
   "name": "regression"
  },
  "language_info": {
   "codemirror_mode": {
    "name": "ipython",
    "version": 3
   },
   "file_extension": ".py",
   "mimetype": "text/x-python",
   "name": "python",
   "nbconvert_exporter": "python",
   "pygments_lexer": "ipython3",
   "version": "3.9.7"
  }
 },
 "nbformat": 4,
 "nbformat_minor": 5
}
